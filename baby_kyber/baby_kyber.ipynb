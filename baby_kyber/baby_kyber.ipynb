{
 "cells": [
  {
   "cell_type": "markdown",
   "id": "4680a3d8",
   "metadata": {},
   "source": [
    "# Mini Projekt - Baby Kyber"
   ]
  },
  {
   "cell_type": "markdown",
   "id": "c444d5d3",
   "metadata": {},
   "source": [
    "## Pierścień $\\mathbb{Z}_{17}[X]/(X^4+1)$"
   ]
  },
  {
   "cell_type": "code",
   "execution_count": 7,
   "id": "1279a018",
   "metadata": {},
   "outputs": [],
   "source": [
    "import numpy as np\n",
    "\n",
    "\n",
    "class Znw():\n",
    "    q=17\n",
    "    f=np.array([1,0,0,0,1])\n",
    "    def __init__(self,vec):\n",
    "        _,r=np.polydiv(np.array(vec),self.f)\n",
    "        self.vec=r%17\n",
    "\n",
    "    def __repr__(self):\n",
    "        return str(self.vec)\n",
    "\n",
    "    def __add__(self,other):\n",
    "        if isinstance(other,Znw):\n",
    "            return Znw(np.polyadd(self.vec,other.vec))\n",
    "        else:\n",
    "            raise TypeError(f\"unsupported operand type(s) for +: 'Znw' and '{type(other).__name__}'\")\n",
    "\n",
    "    def __sub__(self,other):\n",
    "        if isinstance(other,Znw):\n",
    "            return Znw(np.polyadd(self.vec,-1*other.vec))\n",
    "        else:\n",
    "            raise TypeError(f\"unsupported operand type(s) for +: 'Znw' and '{type(other).__name__}'\")\n",
    "\n",
    "\n",
    "    def __mul__(self,other):\n",
    "        if isinstance(other,Znw):\n",
    "            return Znw(np.polymul(self.vec,other.vec))\n",
    "        elif isinstance(other,int):\n",
    "            return Znw(other*self.vec)\n",
    "        else:\n",
    "            raise TypeError(f\"unsupported operand type(s) for *: 'Znw' and '{type(other).__name__}'\")\n",
    "\n",
    "    __rmul__=__mul__\n"
   ]
  },
  {
   "cell_type": "markdown",
   "id": "ffc5b429",
   "metadata": {},
   "source": [
    "## Baby Kyber\n",
    "\n",
    "Zaimplementuj poniższe elementy kryptosystemu Baby Kyber tak, aby osiągnąć jak największą skuteczność w testach (przy niezerowych błędach). Wymagana minimalna skuteczność to 60%."
   ]
  },
  {
   "cell_type": "code",
   "execution_count": 8,
   "id": "25dbaa51",
   "metadata": {},
   "outputs": [],
   "source": [
    "K = 2\n",
    "q = 17\n",
    "\n",
    "#pierścień Z17[X]/X^4 + 1\n",
    "\n",
    "prop = 0.1\n",
    "\n",
    "n = 4"
   ]
  },
  {
   "cell_type": "markdown",
   "id": "9d5febcb",
   "metadata": {},
   "source": [
    "### Generowanie klucza\n",
    "\n",
    "Zaimplementuj funkcję `key_gen()` realizującą generowanie klucza w kryptosystemie Baby Kyber. Funkcja ma zwracać `A,t,s`. Przetestuj, czy dla podanych $A,s,e$ otrzymasz poprawny wielomian $t$.\n",
    "\n",
    "$A=\\left[\\begin{matrix}\n",
    "    6x^3+16x^2+16x+11&9x^3+4x^2+6x+3\\\\\n",
    "    5x^3+3x^2+10x+1&6x^3+x^2+9x+15\n",
    "\\end{matrix}\\right]$\n",
    "\n",
    "$\\mathbf{s}=(-x^3-x^2+x,-x^3-x)$\n",
    "\n",
    "$\\mathbf{e}=(x^2,x^2-x)$\n",
    "\n",
    "$\\mathbf{t}=A\\mathbf{s}+\\mathbf{e}:\\ \\ \\mathbf{t}=(16x^3+15x^2+7,10x^3+12x^2+11x+6)$"
   ]
  },
  {
   "cell_type": "code",
   "execution_count": 9,
   "id": "069eefca",
   "metadata": {},
   "outputs": [
    {
     "name": "stdout",
     "output_type": "stream",
     "text": [
      "test:  [[16. 15.  0.  7.] [10. 12. 11.  6.]]\n",
      "\n",
      "s: [[0.] [0.]]\n",
      "t: [[16.  0.  0.  1.] [1. 0.]]\n",
      "A:  [[[ 5.  2.  4. 14.] [ 5. 13.  8.  9.]]\n",
      " [[9. 2. 9. 6.] [12.  2.  7.  0.]]]\n"
     ]
    }
   ],
   "source": [
    "A = np.array([\n",
    "  [Znw([6, 16, 16, 11]), Znw([9, 4, 6, 3 ])],\n",
    "  [Znw([5, 3,  10, 1 ]), Znw([6, 1, 9, 15])],\n",
    "])\n",
    "s = np.array(\n",
    "  [Znw([-1, -1, 1, 0]), Znw([-1, 0, -1, 0])]\n",
    ")\n",
    "e = np.array(\n",
    "  [Znw([1, 0, 0]), Znw([1, -1, 0])]\n",
    ")\n",
    "\n",
    "t = A @ s + e\n",
    "print(\"test: \", t, end=\"\\n\\n\")\n",
    "\n",
    "def key_gen():\n",
    "    def generate_A():\n",
    "        A = np.empty((K, K), dtype=object)\n",
    "        for i in range(K):\n",
    "            for j in range(K):\n",
    "                new_array = np.random.randint(0, q + 1, size=n)\n",
    "                A[i, j] = Znw(new_array)\n",
    "        return A\n",
    "\n",
    "    def generate_s():\n",
    "        s = np.empty(K, dtype=object)\n",
    "        for i in range(K):\n",
    "            new_array = np.array([B_ni_1(prop) for _ in range(n)])\n",
    "            s[i] = Znw(new_array)\n",
    "        return s\n",
    "\n",
    "    def generate_e():\n",
    "        return generate_s()\n",
    "\n",
    "    def calculate_t(A, s, e):\n",
    "        return A @ s + e\n",
    "    \n",
    "    def B_ni_1(prop):\n",
    "        random_value = np.random.uniform(0,1)\n",
    "\n",
    "        if random_value < prop:\n",
    "            return -1\n",
    "        if random_value < 2*prop:\n",
    "            return 1\n",
    "        \n",
    "        return 0\n",
    "\n",
    "    A = generate_A()\n",
    "    s = generate_s()\n",
    "    e = generate_e()\n",
    "    t = calculate_t(A, s, e)\n",
    "\n",
    "    return A, s, t\n",
    "\n",
    "\n",
    "A,s,t = key_gen()\n",
    "\n",
    "print(\"s:\", s)\n",
    "print(\"t:\", t)\n",
    "print(\"A: \", A)"
   ]
  },
  {
   "cell_type": "markdown",
   "id": "60e43683",
   "metadata": {},
   "source": [
    "### Szyfrowanie\n",
    "\n",
    "Zaimplementuj funkcję `encrypt(A,t,m)` realizującą szyfrowanie w kryptosystemie Baby Kyber a gdzie wejściowe `m` jest w postaci listy. Funkcja ma zwracać szyfrogram `c`. Przetestuj poprawność działania na poniższych danych. \n",
    "\n",
    "$m=1\\cdot x^3+0\\cdot x^2+1\\cdot x+1=x^3+x+1$\n",
    "\n",
    "$\\mathbf{r}=(-x^3+x^2,x^3+x^2-1)$\n",
    "\n",
    "$\\mathbf{e_1}=(x^2+x,x^2)$\n",
    "\n",
    "$e_2=-x^3-x^2$\n",
    "\n",
    "$\\mathbf{u}=A^T\\mathbf{r}+\\mathbf{e_1}:\\ \\ \\mathbf{u}=(11x^3+11x^2+10x+3,4x^3+4x^2+13x+11)$\n",
    "\n",
    "$v=\\mathbf{t}^T\\mathbf{r}+e_2+\\lfloor\\frac{q}{2}\\rceil m:\\ \\ v=8x^3+6x^2+9x+16$\n",
    "\n",
    "$\\mathbf{c}=(\\mathbf{u},v):\\ \\ \\mathbf{c}=((11x^3+11x^2+10x+3,4x^3+4x^2+13x+11),8x^3+6x^2+9x+16)$"
   ]
  },
  {
   "cell_type": "code",
   "execution_count": 10,
   "id": "902d15cc",
   "metadata": {},
   "outputs": [
    {
     "name": "stdout",
     "output_type": "stream",
     "text": [
      "Szyfrogram c: (array([[11. 11. 10.  3.], [ 4.  4. 13. 11.]], dtype=object), [ 8.  6.  9. 16.])\n"
     ]
    }
   ],
   "source": [
    "from math import ceil\n",
    "\n",
    "def encrypt(A, t, m):\n",
    "    m = Znw(m)\n",
    "    r = np.array(\n",
    "        [Znw([-1, 1, 0, 0]), Znw([1, 1, 0, -1])]\n",
    "    )\n",
    "    e1 = np.array(\n",
    "        [Znw([1, 1, 0]), Znw([1, 0, 0])]\n",
    "    )\n",
    "    e2 = Znw([-1, -1, 0, 0])\n",
    "\n",
    "    u = A.T @ r + e1\n",
    "    v = t.T @ r + e2 + ceil(Znw.q / 2) * m\n",
    "\n",
    "    c = (u, v)\n",
    "    return c\n",
    "\n",
    "# Testowanie funkcji na podanych danych\n",
    "A = np.array([\n",
    "  [Znw([6, 16, 16, 11]), Znw([9, 4, 6, 3 ])],\n",
    "  [Znw([5, 3,  10, 1 ]), Znw([6, 1, 9, 15])],\n",
    "])\n",
    "s = np.array(\n",
    "  [Znw([-1, -1, 1, 0]), Znw([-1, 0, -1, 0])]\n",
    ")\n",
    "e = np.array(\n",
    "  [Znw([1, 0, 0]), Znw([1, -1, 0])]\n",
    ")\n",
    "\n",
    "t = A @ s + e\n",
    "\n",
    "m = [1, 0, 1, 1]\n",
    "\n",
    "c = encrypt(A, t, m)\n",
    "print(f\"Szyfrogram c: {c}\")"
   ]
  },
  {
   "cell_type": "markdown",
   "id": "c0b5fd48",
   "metadata": {},
   "source": [
    "### Deszyfrowanie\n",
    "\n",
    "Zaimplementuj funkcję `decrypt(c,s)` realizującą deszyfrowanie w kryptosystemie Baby Kyber. Funkcja ma zwracać ostateczną odszyfrowaną wiadomość `m_n`. Przetestuj działanie na poniższych danych.\n",
    "\n",
    "$m_n=v-\\mathbf{s}^T\\mathbf{u}:\\ \\ m_n=8x^3+14x^2+8x+6$\n",
    "\n",
    "$m_n=1\\cdot x^3+0\\cdot x^2+1\\cdot x+1$\n"
   ]
  },
  {
   "cell_type": "code",
   "execution_count": 13,
   "id": "9d5ea81f",
   "metadata": {},
   "outputs": [
    {
     "name": "stdout",
     "output_type": "stream",
     "text": [
      "Odszyfrowana wiadomość mn: [1, 1, 0, 0]\n"
     ]
    }
   ],
   "source": [
    "def decrypt(c,s):\n",
    "    u, v = c\n",
    "    mn = v - s.T @ u\n",
    "    mn = mn.vec\n",
    "\n",
    "    # Zaokrąglanie współczynników\n",
    "    mn = [1 if 5 <= x < 13 else 0 for x in mn]\n",
    "    \n",
    "    return [0 for _ in range(n-len(mn))] + mn\n",
    "\n",
    "mn = decrypt(c, s)\n",
    "print(f\"Odszyfrowana wiadomość mn: {mn}\")"
   ]
  },
  {
   "cell_type": "markdown",
   "id": "c3bf409c",
   "metadata": {},
   "source": [
    "### Testy"
   ]
  },
  {
   "cell_type": "code",
   "execution_count": 14,
   "id": "839e9142",
   "metadata": {},
   "outputs": [
    {
     "name": "stdout",
     "output_type": "stream",
     "text": [
      "Error: [1, 1, 0, 1] != [1, 1, 0, 0]\n",
      "Error: [1, 1, 1, 1] != [0, 1, 1, 1]\n",
      "Error: [0, 0, 0, 0] != [0, 1, 0, 0]\n",
      "Error: [1, 1, 0, 0] != [0, 1, 0, 0]\n",
      "Error: [1, 0, 1, 1] != [1, 1, 1, 1]\n",
      "Error: [1, 1, 0, 0] != [1, 0, 0, 0]\n",
      "Error: [0, 1, 0, 1] != [1, 1, 0, 1]\n",
      "Error: [1, 1, 0, 0] != [1, 0, 0, 0]\n",
      "Error: [0, 0, 0, 1] != [0, 0, 0, 0]\n",
      "Error: [0, 1, 0, 0] != [0, 0, 0, 0]\n",
      "Error: [0, 0, 1, 1] != [0, 0, 0, 1]\n",
      "Error: [0, 1, 0, 0] != [0, 0, 0, 0]\n",
      "Error: [1, 0, 0, 0] != [1, 0, 1, 0]\n",
      "Error: [1, 0, 1, 1] != [1, 0, 1, 0]\n",
      "Error: [0, 1, 1, 1] != [0, 1, 0, 1]\n",
      "Error: [1, 0, 0, 0] != [1, 1, 0, 0]\n",
      "Success rate: 98.4 %\n"
     ]
    }
   ],
   "source": [
    "import secrets as sc\n",
    "\n",
    "success = 0\n",
    "for i in range(1000):\n",
    "    output = []\n",
    "    A,s,t = key_gen()\n",
    "    \n",
    "    m=[sc.choice((0,1)) for k in range(4)]\n",
    "    \n",
    "    c = encrypt(A,t,m)\n",
    "    m_n = decrypt(c,s)\n",
    "\n",
    "    if m != m_n:\n",
    "        print(f'Error: {m} != {m_n}')\n",
    "\n",
    "    if m_n == m:\n",
    "        success += 1\n",
    "\n",
    "print(f'Success rate: {success * 100 /1000} %')\n"
   ]
  }
 ],
 "metadata": {
  "kernelspec": {
   "display_name": "Python 3",
   "language": "python",
   "name": "python3"
  },
  "language_info": {
   "codemirror_mode": {
    "name": "ipython",
    "version": 3
   },
   "file_extension": ".py",
   "mimetype": "text/x-python",
   "name": "python",
   "nbconvert_exporter": "python",
   "pygments_lexer": "ipython3",
   "version": "3.11.5"
  }
 },
 "nbformat": 4,
 "nbformat_minor": 5
}
